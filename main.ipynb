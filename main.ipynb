{
 "cells": [
  {
   "cell_type": "markdown",
   "metadata": {},
   "source": [
    "bird image classfication ML model"
   ]
  },
  {
   "cell_type": "code",
   "execution_count": 193,
   "metadata": {},
   "outputs": [],
   "source": [
    "import numpy as np\n",
    "import pandas as pd\n",
    "\n",
    "import os\n",
    "import re\n",
    "from random import randint\n",
    "\n",
    "import matplotlib.pyplot as plt\n",
    "%matplotlib inline"
   ]
  },
  {
   "cell_type": "markdown",
   "metadata": {},
   "source": [
    "1. prepare image data (path, class, bounding box, etc.)"
   ]
  },
  {
   "cell_type": "code",
   "execution_count": 194,
   "metadata": {},
   "outputs": [
    {
     "data": {
      "text/plain": [
       "True"
      ]
     },
     "execution_count": 194,
     "metadata": {},
     "output_type": "execute_result"
    }
   ],
   "source": [
    "path_read_image = './data/CUB_200_2011/images.txt'\n",
    "os.path.isfile(path_read_image) # read image"
   ]
  },
  {
   "cell_type": "code",
   "execution_count": 195,
   "metadata": {},
   "outputs": [
    {
     "name": "stdout",
     "output_type": "stream",
     "text": [
      "number of images:  11788\n",
      "image_dirs:\n"
     ]
    },
    {
     "data": {
      "text/plain": [
       "['./data/CUB_200_2011/images/001.Black_footed_Albatross/Black_Footed_Albatross_0046_18.jpg',\n",
       " './data/CUB_200_2011/images/001.Black_footed_Albatross/Black_Footed_Albatross_0009_34.jpg',\n",
       " './data/CUB_200_2011/images/001.Black_footed_Albatross/Black_Footed_Albatross_0002_55.jpg',\n",
       " './data/CUB_200_2011/images/001.Black_footed_Albatross/Black_Footed_Albatross_0074_59.jpg',\n",
       " './data/CUB_200_2011/images/001.Black_footed_Albatross/Black_Footed_Albatross_0014_89.jpg',\n",
       " './data/CUB_200_2011/images/001.Black_footed_Albatross/Black_Footed_Albatross_0085_92.jpg',\n",
       " './data/CUB_200_2011/images/001.Black_footed_Albatross/Black_Footed_Albatross_0031_100.jpg',\n",
       " './data/CUB_200_2011/images/001.Black_footed_Albatross/Black_Footed_Albatross_0051_796103.jpg',\n",
       " './data/CUB_200_2011/images/001.Black_footed_Albatross/Black_Footed_Albatross_0010_796097.jpg',\n",
       " './data/CUB_200_2011/images/001.Black_footed_Albatross/Black_Footed_Albatross_0025_796057.jpg']"
      ]
     },
     "execution_count": 195,
     "metadata": {},
     "output_type": "execute_result"
    }
   ],
   "source": [
    "# read image\n",
    "with open(path_read_image, 'r') as f:\n",
    "    image_dirs = ['./data/CUB_200_2011/images/' + re.sub(r'[0-9]*\\s', '', s) for s in f.readlines()]\n",
    "    num_images = len(image_dirs)\n",
    "print('number of images: ', num_images)\n",
    "print('image_dirs:')\n",
    "image_dirs[:10]"
   ]
  },
  {
   "cell_type": "code",
   "execution_count": 196,
   "metadata": {},
   "outputs": [
    {
     "data": {
      "text/plain": [
       "True"
      ]
     },
     "execution_count": 196,
     "metadata": {},
     "output_type": "execute_result"
    }
   ],
   "source": [
    "path_classes = './data/CUB_200_2011/classes.txt'\n",
    "os.path.isfile(path_classes) #set of class"
   ]
  },
  {
   "cell_type": "code",
   "execution_count": 197,
   "metadata": {},
   "outputs": [
    {
     "name": "stdout",
     "output_type": "stream",
     "text": [
      "classes:\n"
     ]
    },
    {
     "data": {
      "text/plain": [
       "[(1, 'Black_footed_Albatross'),\n",
       " (2, 'Laysan_Albatross'),\n",
       " (3, 'Sooty_Albatross'),\n",
       " (4, 'Groove_billed_Ani'),\n",
       " (5, 'Crested_Auklet'),\n",
       " (6, 'Least_Auklet'),\n",
       " (7, 'Parakeet_Auklet'),\n",
       " (8, 'Rhinoceros_Auklet'),\n",
       " (9, 'Brewer_Blackbird'),\n",
       " (10, 'Red_winged_Blackbird')]"
      ]
     },
     "execution_count": 197,
     "metadata": {},
     "output_type": "execute_result"
    }
   ],
   "source": [
    "#set of class\n",
    "with open(path_classes, 'r') as f:\n",
    "    values =  [re.sub(r'[0-9 .]*\\n*', '', s) for s in f.readlines()]\n",
    "    keys = np.arange(1, len(values)+1, 1)\n",
    "    classes = {\n",
    "        k:v for (k,v) in zip(keys, values)\n",
    "    }\n",
    "print('classes:')\n",
    "list(classes.items())[:10]"
   ]
  },
  {
   "cell_type": "code",
   "execution_count": 198,
   "metadata": {},
   "outputs": [
    {
     "data": {
      "text/plain": [
       "True"
      ]
     },
     "execution_count": 198,
     "metadata": {},
     "output_type": "execute_result"
    }
   ],
   "source": [
    "path_class_labels = './data/CUB_200_2011/image_class_labels.txt'\n",
    "os.path.isfile(path_class_labels)"
   ]
  },
  {
   "cell_type": "code",
   "execution_count": 199,
   "metadata": {},
   "outputs": [
    {
     "name": "stdout",
     "output_type": "stream",
     "text": [
      "num_image: 11788\n",
      "num_class:  200\n",
      "images: \n"
     ]
    },
    {
     "data": {
      "text/plain": [
       "[('./data/CUB_200_2011/images/001.Black_footed_Albatross/Black_Footed_Albatross_0046_18.jpg',\n",
       "  1),\n",
       " ('./data/CUB_200_2011/images/001.Black_footed_Albatross/Black_Footed_Albatross_0009_34.jpg',\n",
       "  1),\n",
       " ('./data/CUB_200_2011/images/001.Black_footed_Albatross/Black_Footed_Albatross_0002_55.jpg',\n",
       "  1),\n",
       " ('./data/CUB_200_2011/images/001.Black_footed_Albatross/Black_Footed_Albatross_0074_59.jpg',\n",
       "  1),\n",
       " ('./data/CUB_200_2011/images/001.Black_footed_Albatross/Black_Footed_Albatross_0014_89.jpg',\n",
       "  1)]"
      ]
     },
     "execution_count": 199,
     "metadata": {},
     "output_type": "execute_result"
    }
   ],
   "source": [
    "#class label\n",
    "with open(path_class_labels, 'r') as f:\n",
    "    keys = image_dirs\n",
    "    values = [[int(c) for c in e.split()][1] for e in f.readlines()]\n",
    "    images = {k:v for (k,v) in zip(keys, values)}\n",
    "    num_images = len(keys)\n",
    "    num_classes = len(set(values))\n",
    "print('num_image:', num_images)\n",
    "print('num_class: ', num_classes)\n",
    "\n",
    "print('images: ')\n",
    "list(images.items())[:5]"
   ]
  },
  {
   "cell_type": "code",
   "execution_count": 200,
   "metadata": {},
   "outputs": [
    {
     "data": {
      "text/plain": [
       "True"
      ]
     },
     "execution_count": 200,
     "metadata": {},
     "output_type": "execute_result"
    }
   ],
   "source": [
    "path_train_test_split = './data/CUB_200_2011/train_test_split.txt'\n",
    "os.path.isfile(path_train_test_split)"
   ]
  },
  {
   "cell_type": "code",
   "execution_count": 201,
   "metadata": {},
   "outputs": [
    {
     "name": "stdout",
     "output_type": "stream",
     "text": [
      "num_train: 5994\n",
      "num_test: 5794\n",
      "total: 11788\n"
     ]
    }
   ],
   "source": [
    "# train-test-split (0 for train, 1 for test)\n",
    "with open(path_train_test_split, 'r') as f:\n",
    "    train_test_split = [[int(l) for l in e.strip().split()] for e in f.readlines()]\n",
    "labels = ([l[1] for l in train_test_split])\n",
    "num_train = labels.count(1)\n",
    "num_test = labels.count(0)\n",
    "print('num_train:', num_train)\n",
    "print('num_test:', num_test)\n",
    "print('total:', num_train + num_test)"
   ]
  },
  {
   "cell_type": "code",
   "execution_count": 202,
   "metadata": {},
   "outputs": [],
   "source": [
    "from keras.utils import load_img\n",
    "\n",
    "# helper function to draw a bird image\n",
    "def plot_image(img_path):\n",
    "    img = load_img(img_path)\n",
    "    plt.imshow(img)\n",
    "    plt.title(classes[images[img_path]])"
   ]
  },
  {
   "cell_type": "code",
   "execution_count": 203,
   "metadata": {},
   "outputs": [
    {
     "data": {
      "image/png": "[encoded data removed]",
      "text/plain": [
       "<Figure size 432x288 with 1 Axes>"
      ]
     },
     "metadata": {
      "needs_background": "light"
     },
     "output_type": "display_data"
    }
   ],
   "source": [
    "path_img = image_dirs[randint(0, num_images-1)]\n",
    "plot_image(path_img)"
   ]
  },
  {
   "cell_type": "code",
   "execution_count": 204,
   "metadata": {},
   "outputs": [],
   "source": [
    "data_birds = {\n",
    "    'bird-name': [classes[images[image_dir]] for image_dir in image_dirs],\n",
    "    'image-label': [images[image_dir] for image_dir in image_dirs],\n",
    "    'image-path': image_dirs,\n",
    "    'train-test-label': labels\n",
    "}"
   ]
  },
  {
   "cell_type": "code",
   "execution_count": 205,
   "metadata": {},
   "outputs": [
    {
     "data": {
      "text/html": [
       "<div>\n",
       "<style scoped>\n",
       "    .dataframe tbody tr th:only-of-type {\n",
       "        vertical-align: middle;\n",
       "    }\n",
       "\n",
       "    .dataframe tbody tr th {\n",
       "        vertical-align: top;\n",
       "    }\n",
       "\n",
       "    .dataframe thead th {\n",
       "        text-align: right;\n",
       "    }\n",
       "</style>\n",
       "<table border=\"1\" class=\"dataframe\">\n",
       "  <thead>\n",
       "    <tr style=\"text-align: right;\">\n",
       "      <th></th>\n",
       "      <th>bird-name</th>\n",
       "      <th>image-label</th>\n",
       "      <th>image-path</th>\n",
       "      <th>train-test-label</th>\n",
       "    </tr>\n",
       "  </thead>\n",
       "  <tbody>\n",
       "    <tr>\n",
       "      <th>0</th>\n",
       "      <td>Black_footed_Albatross</td>\n",
       "      <td>1</td>\n",
       "      <td>./data/CUB_200_2011/images/001.Black_footed_Al...</td>\n",
       "      <td>0</td>\n",
       "    </tr>\n",
       "    <tr>\n",
       "      <th>1</th>\n",
       "      <td>Black_footed_Albatross</td>\n",
       "      <td>1</td>\n",
       "      <td>./data/CUB_200_2011/images/001.Black_footed_Al...</td>\n",
       "      <td>1</td>\n",
       "    </tr>\n",
       "    <tr>\n",
       "      <th>2</th>\n",
       "      <td>Black_footed_Albatross</td>\n",
       "      <td>1</td>\n",
       "      <td>./data/CUB_200_2011/images/001.Black_footed_Al...</td>\n",
       "      <td>0</td>\n",
       "    </tr>\n",
       "    <tr>\n",
       "      <th>3</th>\n",
       "      <td>Black_footed_Albatross</td>\n",
       "      <td>1</td>\n",
       "      <td>./data/CUB_200_2011/images/001.Black_footed_Al...</td>\n",
       "      <td>1</td>\n",
       "    </tr>\n",
       "    <tr>\n",
       "      <th>4</th>\n",
       "      <td>Black_footed_Albatross</td>\n",
       "      <td>1</td>\n",
       "      <td>./data/CUB_200_2011/images/001.Black_footed_Al...</td>\n",
       "      <td>1</td>\n",
       "    </tr>\n",
       "  </tbody>\n",
       "</table>\n",
       "</div>"
      ],
      "text/plain": [
       "                bird-name image-label  \\\n",
       "0  Black_footed_Albatross           1   \n",
       "1  Black_footed_Albatross           1   \n",
       "2  Black_footed_Albatross           1   \n",
       "3  Black_footed_Albatross           1   \n",
       "4  Black_footed_Albatross           1   \n",
       "\n",
       "                                          image-path  train-test-label  \n",
       "0  ./data/CUB_200_2011/images/001.Black_footed_Al...                 0  \n",
       "1  ./data/CUB_200_2011/images/001.Black_footed_Al...                 1  \n",
       "2  ./data/CUB_200_2011/images/001.Black_footed_Al...                 0  \n",
       "3  ./data/CUB_200_2011/images/001.Black_footed_Al...                 1  \n",
       "4  ./data/CUB_200_2011/images/001.Black_footed_Al...                 1  "
      ]
     },
     "execution_count": 205,
     "metadata": {},
     "output_type": "execute_result"
    }
   ],
   "source": [
    "df_birds = pd.DataFrame(data_birds)\n",
    "df_birds['image-label'] = df_birds['image-label'].astype('string')\n",
    "df_birds.head()"
   ]
  },
  {
   "cell_type": "code",
   "execution_count": 206,
   "metadata": {},
   "outputs": [],
   "source": [
    "df_birds_train = df_birds[df_birds['train-test-label']==1].drop(['train-test-label'], axis=1)\n",
    "df_birds_val_1 = df_birds_train.groupby(by='image-label', as_index=False).apply(lambda x: x.sample(5)).reset_index().drop(columns=['level_0']).set_index('level_1')\n",
    "df_birds_val_1.index.name = None\n",
    "df_birds_train = df_birds_train.drop(index=df_birds_val_1.index)"
   ]
  },
  {
   "cell_type": "code",
   "execution_count": 207,
   "metadata": {},
   "outputs": [
    {
     "data": {
      "text/plain": [
       "((4994, 3), (1000, 3))"
      ]
     },
     "execution_count": 207,
     "metadata": {},
     "output_type": "execute_result"
    }
   ],
   "source": [
    "df_birds_train.shape, df_birds_val_1.shape"
   ]
  },
  {
   "cell_type": "code",
   "execution_count": 208,
   "metadata": {},
   "outputs": [],
   "source": [
    "df_birds_test = df_birds[df_birds['train-test-label']==0].drop(['train-test-label'], axis=1)\n",
    "df_birds_val_2 = df_birds_test.groupby(by='image-label', as_index=False).apply(lambda x: x.sample(5)).reset_index().drop(columns=['level_0']).set_index('level_1')\n",
    "df_birds_val_2.index.name = None\n",
    "df_birds_test = df_birds_test.drop(index=df_birds_val_2.index)"
   ]
  },
  {
   "cell_type": "code",
   "execution_count": 209,
   "metadata": {},
   "outputs": [
    {
     "data": {
      "text/plain": [
       "((4794, 3), (1000, 3))"
      ]
     },
     "execution_count": 209,
     "metadata": {},
     "output_type": "execute_result"
    }
   ],
   "source": [
    "df_birds_test.shape, df_birds_val_2.shape"
   ]
  },
  {
   "cell_type": "code",
   "execution_count": 210,
   "metadata": {},
   "outputs": [
    {
     "name": "stderr",
     "output_type": "stream",
     "text": [
      "C:\\Users\\Windows\\AppData\\Local\\Temp\\ipykernel_4400\\65438447.py:1: FutureWarning: The frame.append method is deprecated and will be removed from pandas in a future version. Use pandas.concat instead.\n",
      "  df_birds_train = df_birds_train.append(df_birds_test)\n"
     ]
    }
   ],
   "source": [
    "df_birds_train = df_birds_train.append(df_birds_test)\n",
    "df_birds_val = df_birds_val_1\n",
    "df_birds_test = df_birds_val_2"
   ]
  },
  {
   "cell_type": "code",
   "execution_count": 211,
   "metadata": {},
   "outputs": [],
   "source": [
    "df_birds_train = df_birds_train.sample(frac=1)\n",
    "df_birds_val = df_birds_val_1.sample(frac=1)\n",
    "df_birds_test = df_birds_val_2.sample(frac=1)"
   ]
  },
  {
   "cell_type": "code",
   "execution_count": 212,
   "metadata": {},
   "outputs": [
    {
     "data": {
      "text/plain": [
       "((9788, 3), (1000, 3), (1000, 3))"
      ]
     },
     "execution_count": 212,
     "metadata": {},
     "output_type": "execute_result"
    }
   ],
   "source": [
    "df_birds_train.shape, df_birds_val.shape, df_birds_test.shape"
   ]
  },
  {
   "cell_type": "markdown",
   "metadata": {},
   "source": [
    "2. image dataset"
   ]
  },
  {
   "cell_type": "code",
   "execution_count": 213,
   "metadata": {},
   "outputs": [
    {
     "name": "stdout",
     "output_type": "stream",
     "text": [
      "Found 9788 validated image filenames belonging to 200 classes.\n",
      "Found 1000 validated image filenames belonging to 200 classes.\n",
      "Found 1000 validated image filenames belonging to 200 classes.\n"
     ]
    }
   ],
   "source": [
    "from keras.preprocessing.image import ImageDataGenerator\n",
    "\n",
    "datagen = ImageDataGenerator(\n",
    "    rescale=1./255,\n",
    ")\n",
    "\n",
    "img_size = 128\n",
    "target_size = (img_size, img_size)\n",
    "batch_size = 64\n",
    "train_generator = datagen.flow_from_dataframe(dataframe=df_birds_train,\n",
    "                                              x_col='image-path',\n",
    "                                              y_col='bird-name',\n",
    "                                              target_size=target_size,\n",
    "                                              batch_size=batch_size,\n",
    "                                              )      \n",
    "val_generator = datagen.flow_from_dataframe(dataframe=df_birds_val,\n",
    "                                              x_col='image-path',\n",
    "                                              y_col='bird-name',\n",
    "                                              target_size=target_size,\n",
    "                                              batch_size=batch_size,\n",
    "                                              )      \n",
    "test_generator = datagen.flow_from_dataframe(dataframe=df_birds_test,\n",
    "                                              x_col='image-path',\n",
    "                                              y_col='bird-name',\n",
    "                                              target_size=target_size,\n",
    "                                              batch_size=batch_size,\n",
    "                                              )"
   ]
  },
  {
   "cell_type": "markdown",
   "metadata": {},
   "source": [
    "3. neural network class"
   ]
  },
  {
   "cell_type": "code",
   "execution_count": 214,
   "metadata": {},
   "outputs": [],
   "source": [
    "from keras.models import Sequential\n",
    "from keras.layers import Conv2D, MaxPooling2D, BatchNormalization, Flatten, Dropout, Dense"
   ]
  },
  {
   "cell_type": "code",
   "execution_count": 215,
   "metadata": {},
   "outputs": [],
   "source": [
    "model = Sequential()\n",
    "\n",
    "model.add(Conv2D(32, (3, 3), activation='relu', padding='valid', input_shape=(img_size, img_size, 3)))\n",
    "model.add(MaxPooling2D((2, 2)))\n",
    "model.add(BatchNormalization())\n",
    "\n",
    "model.add(Conv2D(64, (3, 3), activation='relu', padding='valid'))\n",
    "model.add(MaxPooling2D((2, 2)))\n",
    "model.add(BatchNormalization())\n",
    "\n",
    "model.add(Conv2D(128, (3, 3), activation='relu', padding='valid'))\n",
    "model.add(MaxPooling2D((2, 2)))\n",
    "model.add(BatchNormalization())\n",
    "\n",
    "model.add(Flatten())\n",
    "\n",
    "model.add(Dense(128, activation='relu'))\n",
    "model.add(Dropout(0.5))\n",
    "model.add(Dense(num_classes, activation='softmax'))"
   ]
  },
  {
   "cell_type": "code",
   "execution_count": 216,
   "metadata": {},
   "outputs": [
    {
     "name": "stdout",
     "output_type": "stream",
     "text": [
      "Model: \"sequential_9\"\n",
      "_________________________________________________________________\n",
      " Layer (type)                Output Shape              Param #   \n",
      "=================================================================\n",
      " conv2d_28 (Conv2D)          (None, 126, 126, 32)      896       \n",
      "                                                                 \n",
      " max_pooling2d_28 (MaxPooli  (None, 63, 63, 32)        0         \n",
      " ng2D)                                                           \n",
      "                                                                 \n",
      " batch_normalization_24 (Ba  (None, 63, 63, 32)        128       \n",
      " tchNormalization)                                               \n",
      "                                                                 \n",
      " conv2d_29 (Conv2D)          (None, 61, 61, 64)        18496     \n",
      "                                                                 \n",
      " max_pooling2d_29 (MaxPooli  (None, 30, 30, 64)        0         \n",
      " ng2D)                                                           \n",
      "                                                                 \n",
      " batch_normalization_25 (Ba  (None, 30, 30, 64)        256       \n",
      " tchNormalization)                                               \n",
      "                                                                 \n",
      " conv2d_30 (Conv2D)          (None, 28, 28, 128)       73856     \n",
      "                                                                 \n",
      " max_pooling2d_30 (MaxPooli  (None, 14, 14, 128)       0         \n",
      " ng2D)                                                           \n",
      "                                                                 \n",
      " batch_normalization_26 (Ba  (None, 14, 14, 128)       512       \n",
      " tchNormalization)                                               \n",
      "                                                                 \n",
      " flatten_9 (Flatten)         (None, 25088)             0         \n",
      "                                                                 \n",
      " dense_18 (Dense)            (None, 128)               3211392   \n",
      "                                                                 \n",
      " dropout_9 (Dropout)         (None, 128)               0         \n",
      "                                                                 \n",
      " dense_19 (Dense)            (None, 200)               25800     \n",
      "                                                                 \n",
      "=================================================================\n",
      "Total params: 3331336 (12.71 MB)\n",
      "Trainable params: 3330888 (12.71 MB)\n",
      "Non-trainable params: 448 (1.75 KB)\n",
      "_________________________________________________________________\n"
     ]
    }
   ],
   "source": [
    "model.summary()"
   ]
  },
  {
   "cell_type": "markdown",
   "metadata": {},
   "source": [
    "4. model training"
   ]
  },
  {
   "cell_type": "code",
   "execution_count": 217,
   "metadata": {},
   "outputs": [],
   "source": [
    "from keras.losses import CategoricalCrossentropy\n",
    "from keras.optimizers import Adam\n",
    "from keras.callbacks import ReduceLROnPlateau, EarlyStopping"
   ]
  },
  {
   "cell_type": "code",
   "execution_count": 218,
   "metadata": {},
   "outputs": [],
   "source": [
    "loss = CategoricalCrossentropy()\n",
    "optimizer = Adam(learning_rate=0.001)"
   ]
  },
  {
   "cell_type": "code",
   "execution_count": 219,
   "metadata": {},
   "outputs": [],
   "source": [
    "model.compile(\n",
    "    loss = loss,\n",
    "    optimizer = optimizer,\n",
    "    metrics= ['accuracy'],\n",
    ")"
   ]
  },
  {
   "cell_type": "code",
   "execution_count": 220,
   "metadata": {},
   "outputs": [],
   "source": [
    "reduce_lr = ReduceLROnPlateau(monitor='val_loss', factor=0.2, patience=3, min_lr=1e-6)\n",
    "early_stop = EarlyStopping(monitor='val_loss', patience=5, restore_best_weights=True, verbose=1)"
   ]
  },
  {
   "cell_type": "code",
   "execution_count": 227,
   "metadata": {},
   "outputs": [
    {
     "name": "stdout",
     "output_type": "stream",
     "text": [
      "Epoch 1/200\n",
      "8/8 [==============================] - 4s 560ms/step - loss: 6.2316 - accuracy: 0.0059 - val_loss: 5.3177 - val_accuracy: 0.0020\n",
      "Epoch 2/200\n",
      "8/8 [==============================] - 4s 529ms/step - loss: 5.7469 - accuracy: 0.0176 - val_loss: 5.3400 - val_accuracy: 0.0059\n",
      "Epoch 3/200\n",
      "8/8 [==============================] - 4s 541ms/step - loss: 5.7249 - accuracy: 0.0156 - val_loss: 5.3817 - val_accuracy: 0.0020\n",
      "Epoch 4/200\n",
      "8/8 [==============================] - 4s 549ms/step - loss: 5.5780 - accuracy: 0.0137 - val_loss: 5.3936 - val_accuracy: 0.0059\n",
      "Epoch 5/200\n",
      "8/8 [==============================] - 4s 577ms/step - loss: 5.4956 - accuracy: 0.0117 - val_loss: 5.3968 - val_accuracy: 0.0020\n",
      "Epoch 6/200\n",
      "8/8 [==============================] - 4s 546ms/step - loss: 5.4220 - accuracy: 0.0176 - val_loss: 5.4481 - val_accuracy: 0.0039\n",
      "Epoch 7/200\n",
      "8/8 [==============================] - 4s 546ms/step - loss: 5.4567 - accuracy: 0.0098 - val_loss: 5.5155 - val_accuracy: 0.0039\n",
      "Epoch 8/200\n",
      "8/8 [==============================] - 4s 539ms/step - loss: 5.3697 - accuracy: 0.0176 - val_loss: 5.5249 - val_accuracy: 0.0078\n",
      "Epoch 9/200\n",
      "8/8 [==============================] - 4s 531ms/step - loss: 5.4062 - accuracy: 0.0176 - val_loss: 5.6136 - val_accuracy: 0.0039\n",
      "Epoch 10/200\n",
      "8/8 [==============================] - 4s 529ms/step - loss: 5.3619 - accuracy: 0.0293 - val_loss: 5.6202 - val_accuracy: 0.0039\n",
      "Epoch 11/200\n",
      "8/8 [==============================] - 5s 534ms/step - loss: 5.3804 - accuracy: 0.0156 - val_loss: 5.6543 - val_accuracy: 0.0039\n",
      "Epoch 12/200\n",
      "8/8 [==============================] - 4s 548ms/step - loss: 5.3032 - accuracy: 0.0332 - val_loss: 5.7269 - val_accuracy: 0.0059\n",
      "Epoch 13/200\n",
      "8/8 [==============================] - 4s 565ms/step - loss: 5.2328 - accuracy: 0.0254 - val_loss: 5.8439 - val_accuracy: 0.0059\n",
      "Epoch 14/200\n",
      "8/8 [==============================] - 4s 559ms/step - loss: 5.3748 - accuracy: 0.0254 - val_loss: 5.8204 - val_accuracy: 0.0059\n",
      "Epoch 15/200\n",
      "8/8 [==============================] - 4s 543ms/step - loss: 5.1925 - accuracy: 0.0273 - val_loss: 5.8643 - val_accuracy: 0.0078\n",
      "Epoch 16/200\n",
      "8/8 [==============================] - 4s 549ms/step - loss: 5.3295 - accuracy: 0.0195 - val_loss: 5.8117 - val_accuracy: 0.0059\n",
      "Epoch 17/200\n",
      "8/8 [==============================] - 4s 555ms/step - loss: 5.1437 - accuracy: 0.0312 - val_loss: 5.8264 - val_accuracy: 0.0098\n",
      "Epoch 18/200\n",
      "8/8 [==============================] - 4s 545ms/step - loss: 5.1420 - accuracy: 0.0469 - val_loss: 5.8706 - val_accuracy: 0.0039\n",
      "Epoch 19/200\n",
      "8/8 [==============================] - 4s 542ms/step - loss: 5.2417 - accuracy: 0.0273 - val_loss: 5.9052 - val_accuracy: 0.0059\n",
      "Epoch 20/200\n",
      "8/8 [==============================] - 4s 546ms/step - loss: 5.2362 - accuracy: 0.0430 - val_loss: 6.0044 - val_accuracy: 0.0078\n",
      "Epoch 21/200\n",
      "8/8 [==============================] - 4s 547ms/step - loss: 5.1916 - accuracy: 0.0273 - val_loss: 5.9462 - val_accuracy: 0.0020\n",
      "Epoch 22/200\n",
      "8/8 [==============================] - 4s 557ms/step - loss: 5.1575 - accuracy: 0.0547 - val_loss: 5.7915 - val_accuracy: 0.0078\n",
      "Epoch 23/200\n",
      "8/8 [==============================] - 4s 542ms/step - loss: 5.1066 - accuracy: 0.0430 - val_loss: 5.7502 - val_accuracy: 0.0020\n",
      "Epoch 24/200\n",
      "8/8 [==============================] - 4s 545ms/step - loss: 5.1283 - accuracy: 0.0410 - val_loss: 5.7947 - val_accuracy: 0.0059\n",
      "Epoch 25/200\n",
      "8/8 [==============================] - 4s 544ms/step - loss: 5.0038 - accuracy: 0.0469 - val_loss: 5.9409 - val_accuracy: 0.0078\n",
      "Epoch 26/200\n",
      "8/8 [==============================] - 4s 545ms/step - loss: 5.0071 - accuracy: 0.0469 - val_loss: 5.9343 - val_accuracy: 0.0117\n",
      "Epoch 27/200\n",
      "8/8 [==============================] - 4s 544ms/step - loss: 5.0916 - accuracy: 0.0469 - val_loss: 5.8265 - val_accuracy: 0.0059\n",
      "Epoch 28/200\n",
      "8/8 [==============================] - 4s 570ms/step - loss: 5.0276 - accuracy: 0.0469 - val_loss: 5.7927 - val_accuracy: 0.0078\n",
      "Epoch 29/200\n",
      "8/8 [==============================] - 4s 555ms/step - loss: 5.0339 - accuracy: 0.0547 - val_loss: 5.8676 - val_accuracy: 0.0137\n",
      "Epoch 30/200\n",
      "8/8 [==============================] - 4s 554ms/step - loss: 5.0368 - accuracy: 0.0605 - val_loss: 5.9610 - val_accuracy: 0.0039\n",
      "Epoch 31/200\n",
      "8/8 [==============================] - 4s 559ms/step - loss: 5.0786 - accuracy: 0.0410 - val_loss: 5.8694 - val_accuracy: 0.0117\n",
      "Epoch 32/200\n",
      "8/8 [==============================] - 4s 556ms/step - loss: 4.9809 - accuracy: 0.0449 - val_loss: 6.0180 - val_accuracy: 0.0098\n",
      "Epoch 33/200\n",
      "8/8 [==============================] - 4s 565ms/step - loss: 4.9689 - accuracy: 0.0645 - val_loss: 5.9588 - val_accuracy: 0.0059\n",
      "Epoch 34/200\n",
      "8/8 [==============================] - 4s 554ms/step - loss: 4.9725 - accuracy: 0.0586 - val_loss: 6.0192 - val_accuracy: 0.0078\n",
      "Epoch 35/200\n",
      "8/8 [==============================] - 4s 546ms/step - loss: 4.9939 - accuracy: 0.0645 - val_loss: 6.0601 - val_accuracy: 0.0117\n",
      "Epoch 36/200\n",
      "8/8 [==============================] - 4s 553ms/step - loss: 4.8764 - accuracy: 0.0625 - val_loss: 6.0028 - val_accuracy: 0.0078\n",
      "Epoch 37/200\n",
      "8/8 [==============================] - 4s 548ms/step - loss: 4.9292 - accuracy: 0.0566 - val_loss: 5.9297 - val_accuracy: 0.0059\n",
      "Epoch 38/200\n",
      "8/8 [==============================] - 4s 557ms/step - loss: 4.9056 - accuracy: 0.0742 - val_loss: 5.9359 - val_accuracy: 0.0078\n",
      "Epoch 39/200\n",
      "8/8 [==============================] - 4s 546ms/step - loss: 4.9598 - accuracy: 0.0645 - val_loss: 5.9561 - val_accuracy: 0.0098\n",
      "Epoch 40/200\n",
      "8/8 [==============================] - 4s 549ms/step - loss: 4.8294 - accuracy: 0.0742 - val_loss: 6.0452 - val_accuracy: 0.0098\n",
      "Epoch 41/200\n",
      "8/8 [==============================] - 4s 557ms/step - loss: 4.8029 - accuracy: 0.0703 - val_loss: 6.0719 - val_accuracy: 0.0059\n",
      "Epoch 42/200\n",
      "8/8 [==============================] - 4s 550ms/step - loss: 4.7884 - accuracy: 0.0703 - val_loss: 5.9893 - val_accuracy: 0.0078\n",
      "Epoch 43/200\n",
      "8/8 [==============================] - 4s 553ms/step - loss: 4.7386 - accuracy: 0.0846 - val_loss: 5.8604 - val_accuracy: 0.0059\n",
      "Epoch 44/200\n",
      "8/8 [==============================] - 4s 558ms/step - loss: 4.7266 - accuracy: 0.0918 - val_loss: 5.8824 - val_accuracy: 0.0078\n",
      "Epoch 45/200\n",
      "8/8 [==============================] - 4s 553ms/step - loss: 4.7864 - accuracy: 0.0742 - val_loss: 5.7983 - val_accuracy: 0.0078\n",
      "Epoch 46/200\n",
      "8/8 [==============================] - 4s 560ms/step - loss: 4.7375 - accuracy: 0.0762 - val_loss: 5.7124 - val_accuracy: 0.0098\n",
      "Epoch 47/200\n",
      "8/8 [==============================] - 4s 555ms/step - loss: 4.7263 - accuracy: 0.0781 - val_loss: 5.6878 - val_accuracy: 0.0059\n",
      "Epoch 48/200\n",
      "8/8 [==============================] - 4s 550ms/step - loss: 4.8412 - accuracy: 0.0723 - val_loss: 5.6141 - val_accuracy: 0.0059\n",
      "Epoch 49/200\n",
      "8/8 [==============================] - 4s 554ms/step - loss: 4.6830 - accuracy: 0.0898 - val_loss: 5.5537 - val_accuracy: 0.0098\n",
      "Epoch 50/200\n",
      "8/8 [==============================] - 4s 550ms/step - loss: 4.6585 - accuracy: 0.0957 - val_loss: 5.6428 - val_accuracy: 0.0059\n",
      "Epoch 51/200\n",
      "8/8 [==============================] - 4s 548ms/step - loss: 4.7329 - accuracy: 0.0827 - val_loss: 5.6372 - val_accuracy: 0.0078\n",
      "Epoch 52/200\n",
      "8/8 [==============================] - 4s 566ms/step - loss: 4.6593 - accuracy: 0.0996 - val_loss: 5.6148 - val_accuracy: 0.0137\n",
      "Epoch 53/200\n",
      "8/8 [==============================] - 4s 546ms/step - loss: 4.6208 - accuracy: 0.0886 - val_loss: 5.4819 - val_accuracy: 0.0156\n",
      "Epoch 54/200\n",
      "8/8 [==============================] - 4s 546ms/step - loss: 4.5207 - accuracy: 0.1172 - val_loss: 5.4764 - val_accuracy: 0.0098\n",
      "Epoch 55/200\n",
      "8/8 [==============================] - 4s 545ms/step - loss: 4.6689 - accuracy: 0.0684 - val_loss: 5.5488 - val_accuracy: 0.0137\n",
      "Epoch 56/200\n",
      "8/8 [==============================] - 4s 539ms/step - loss: 4.6137 - accuracy: 0.0898 - val_loss: 5.4570 - val_accuracy: 0.0098\n",
      "Epoch 57/200\n",
      "8/8 [==============================] - 4s 555ms/step - loss: 4.6321 - accuracy: 0.0859 - val_loss: 5.5143 - val_accuracy: 0.0215\n",
      "Epoch 58/200\n",
      "8/8 [==============================] - 4s 558ms/step - loss: 4.4973 - accuracy: 0.1270 - val_loss: 5.4341 - val_accuracy: 0.0137\n",
      "Epoch 59/200\n",
      "8/8 [==============================] - 4s 552ms/step - loss: 4.5259 - accuracy: 0.0977 - val_loss: 5.4620 - val_accuracy: 0.0059\n",
      "Epoch 60/200\n",
      "8/8 [==============================] - 4s 549ms/step - loss: 4.2586 - accuracy: 0.1523 - val_loss: 5.4558 - val_accuracy: 0.0098\n",
      "Epoch 61/200\n",
      "8/8 [==============================] - 4s 544ms/step - loss: 4.4687 - accuracy: 0.1035 - val_loss: 5.4055 - val_accuracy: 0.0098\n",
      "Epoch 62/200\n",
      "8/8 [==============================] - 4s 547ms/step - loss: 4.3764 - accuracy: 0.1270 - val_loss: 5.4018 - val_accuracy: 0.0156\n",
      "Epoch 63/200\n",
      "8/8 [==============================] - 4s 556ms/step - loss: 4.5686 - accuracy: 0.1016 - val_loss: 5.4007 - val_accuracy: 0.0156\n",
      "Epoch 64/200\n",
      "8/8 [==============================] - 4s 544ms/step - loss: 4.4138 - accuracy: 0.1378 - val_loss: 5.3758 - val_accuracy: 0.0098\n",
      "Epoch 65/200\n",
      "8/8 [==============================] - 4s 555ms/step - loss: 4.4873 - accuracy: 0.1055 - val_loss: 5.3047 - val_accuracy: 0.0137\n",
      "Epoch 66/200\n",
      "8/8 [==============================] - 4s 550ms/step - loss: 4.2608 - accuracy: 0.1484 - val_loss: 5.2802 - val_accuracy: 0.0234\n",
      "Epoch 67/200\n",
      "8/8 [==============================] - 4s 540ms/step - loss: 4.2697 - accuracy: 0.1602 - val_loss: 5.3325 - val_accuracy: 0.0156\n",
      "Epoch 68/200\n",
      "8/8 [==============================] - 4s 542ms/step - loss: 4.3086 - accuracy: 0.1445 - val_loss: 5.3401 - val_accuracy: 0.0156\n",
      "Epoch 69/200\n",
      "8/8 [==============================] - 4s 549ms/step - loss: 4.2736 - accuracy: 0.1504 - val_loss: 5.2413 - val_accuracy: 0.0195\n",
      "Epoch 70/200\n",
      "8/8 [==============================] - 4s 553ms/step - loss: 4.2692 - accuracy: 0.1387 - val_loss: 5.2465 - val_accuracy: 0.0059\n",
      "Epoch 71/200\n",
      "8/8 [==============================] - 4s 553ms/step - loss: 4.2103 - accuracy: 0.1406 - val_loss: 5.2486 - val_accuracy: 0.0137\n",
      "Epoch 72/200\n",
      "8/8 [==============================] - 4s 569ms/step - loss: 4.2863 - accuracy: 0.1445 - val_loss: 5.2353 - val_accuracy: 0.0156\n",
      "Epoch 73/200\n",
      "8/8 [==============================] - 4s 559ms/step - loss: 4.1000 - accuracy: 0.1738 - val_loss: 5.2587 - val_accuracy: 0.0117\n",
      "Epoch 74/200\n",
      "8/8 [==============================] - 4s 572ms/step - loss: 4.2174 - accuracy: 0.1523 - val_loss: 5.2785 - val_accuracy: 0.0176\n",
      "Epoch 75/200\n",
      "8/8 [==============================] - 4s 556ms/step - loss: 4.2149 - accuracy: 0.1523 - val_loss: 5.4160 - val_accuracy: 0.0137\n",
      "Epoch 76/200\n",
      "8/8 [==============================] - 4s 553ms/step - loss: 4.0594 - accuracy: 0.1777 - val_loss: 5.3666 - val_accuracy: 0.0117\n",
      "Epoch 77/200\n",
      "8/8 [==============================] - 4s 569ms/step - loss: 4.1643 - accuracy: 0.1465 - val_loss: 5.3188 - val_accuracy: 0.0234\n",
      "Epoch 78/200\n",
      "8/8 [==============================] - 4s 549ms/step - loss: 4.0061 - accuracy: 0.1836 - val_loss: 5.3288 - val_accuracy: 0.0195\n",
      "Epoch 79/200\n",
      "8/8 [==============================] - 4s 547ms/step - loss: 4.1439 - accuracy: 0.1535 - val_loss: 5.3086 - val_accuracy: 0.0312\n",
      "Epoch 80/200\n",
      "8/8 [==============================] - 4s 539ms/step - loss: 3.9329 - accuracy: 0.1973 - val_loss: 5.3713 - val_accuracy: 0.0195\n",
      "Epoch 81/200\n",
      "8/8 [==============================] - 4s 545ms/step - loss: 4.0771 - accuracy: 0.1738 - val_loss: 5.1864 - val_accuracy: 0.0234\n",
      "Epoch 82/200\n",
      "8/8 [==============================] - 4s 545ms/step - loss: 3.9709 - accuracy: 0.2012 - val_loss: 5.1903 - val_accuracy: 0.0234\n",
      "Epoch 83/200\n",
      "8/8 [==============================] - 4s 543ms/step - loss: 3.9537 - accuracy: 0.1836 - val_loss: 5.2214 - val_accuracy: 0.0293\n",
      "Epoch 84/200\n",
      "8/8 [==============================] - 4s 544ms/step - loss: 3.9432 - accuracy: 0.1992 - val_loss: 5.2535 - val_accuracy: 0.0312\n",
      "Epoch 85/200\n",
      "8/8 [==============================] - 4s 539ms/step - loss: 4.0528 - accuracy: 0.1777 - val_loss: 5.2650 - val_accuracy: 0.0273\n",
      "Epoch 86/200\n",
      "8/8 [==============================] - 4s 538ms/step - loss: 3.9336 - accuracy: 0.1973 - val_loss: 5.2308 - val_accuracy: 0.0234\n",
      "Epoch 87/200\n",
      "8/8 [==============================] - 4s 541ms/step - loss: 3.8163 - accuracy: 0.2051 - val_loss: 5.1628 - val_accuracy: 0.0293\n",
      "Epoch 88/200\n",
      "8/8 [==============================] - 4s 544ms/step - loss: 3.8090 - accuracy: 0.2402 - val_loss: 5.1960 - val_accuracy: 0.0254\n",
      "Epoch 89/200\n",
      "8/8 [==============================] - 4s 559ms/step - loss: 3.7639 - accuracy: 0.2266 - val_loss: 5.2224 - val_accuracy: 0.0273\n",
      "Epoch 90/200\n",
      "8/8 [==============================] - 4s 541ms/step - loss: 3.8373 - accuracy: 0.2070 - val_loss: 5.1846 - val_accuracy: 0.0352\n",
      "Epoch 91/200\n",
      "8/8 [==============================] - 4s 548ms/step - loss: 3.7189 - accuracy: 0.2207 - val_loss: 5.1796 - val_accuracy: 0.0273\n",
      "Epoch 92/200\n",
      "8/8 [==============================] - 4s 541ms/step - loss: 3.8246 - accuracy: 0.2070 - val_loss: 5.2054 - val_accuracy: 0.0215\n",
      "Epoch 93/200\n",
      "8/8 [==============================] - 4s 536ms/step - loss: 3.6156 - accuracy: 0.2480 - val_loss: 5.1852 - val_accuracy: 0.0293\n",
      "Epoch 94/200\n",
      "8/8 [==============================] - 4s 562ms/step - loss: 3.6211 - accuracy: 0.2246 - val_loss: 5.2119 - val_accuracy: 0.0254\n",
      "Epoch 95/200\n",
      "8/8 [==============================] - 4s 580ms/step - loss: 3.7272 - accuracy: 0.2168 - val_loss: 5.1829 - val_accuracy: 0.0371\n",
      "Epoch 96/200\n",
      "8/8 [==============================] - 4s 575ms/step - loss: 3.5669 - accuracy: 0.2480 - val_loss: 5.2672 - val_accuracy: 0.0156\n",
      "Epoch 97/200\n",
      "8/8 [==============================] - 4s 554ms/step - loss: 3.6008 - accuracy: 0.2461 - val_loss: 5.2438 - val_accuracy: 0.0254\n",
      "Epoch 98/200\n",
      "8/8 [==============================] - 4s 581ms/step - loss: 3.6408 - accuracy: 0.2480 - val_loss: 5.1746 - val_accuracy: 0.0391\n",
      "Epoch 99/200\n",
      "8/8 [==============================] - 4s 546ms/step - loss: 3.5550 - accuracy: 0.2480 - val_loss: 5.1790 - val_accuracy: 0.0293\n",
      "Epoch 100/200\n",
      "8/8 [==============================] - 4s 548ms/step - loss: 3.5903 - accuracy: 0.2363 - val_loss: 5.1562 - val_accuracy: 0.0273\n",
      "Epoch 101/200\n",
      "8/8 [==============================] - 4s 552ms/step - loss: 3.4524 - accuracy: 0.2715 - val_loss: 5.1913 - val_accuracy: 0.0273\n",
      "Epoch 102/200\n",
      "8/8 [==============================] - 4s 551ms/step - loss: 3.4690 - accuracy: 0.2637 - val_loss: 5.1728 - val_accuracy: 0.0312\n",
      "Epoch 103/200\n",
      "8/8 [==============================] - 4s 546ms/step - loss: 3.3451 - accuracy: 0.2832 - val_loss: 5.1564 - val_accuracy: 0.0352\n",
      "Epoch 104/200\n",
      "8/8 [==============================] - 4s 549ms/step - loss: 3.3377 - accuracy: 0.2949 - val_loss: 5.1544 - val_accuracy: 0.0449\n",
      "Epoch 105/200\n",
      "8/8 [==============================] - 4s 540ms/step - loss: 3.2479 - accuracy: 0.2930 - val_loss: 5.1975 - val_accuracy: 0.0352\n",
      "Epoch 106/200\n",
      "8/8 [==============================] - 4s 539ms/step - loss: 3.4107 - accuracy: 0.2891 - val_loss: 5.2088 - val_accuracy: 0.0391\n",
      "Epoch 107/200\n",
      "8/8 [==============================] - 4s 547ms/step - loss: 3.3749 - accuracy: 0.2754 - val_loss: 5.1407 - val_accuracy: 0.0391\n",
      "Epoch 108/200\n",
      "8/8 [==============================] - 4s 550ms/step - loss: 3.3221 - accuracy: 0.2871 - val_loss: 5.2434 - val_accuracy: 0.0293\n",
      "Epoch 109/200\n",
      "8/8 [==============================] - 4s 546ms/step - loss: 3.0863 - accuracy: 0.3320 - val_loss: 5.1908 - val_accuracy: 0.0508\n",
      "Epoch 110/200\n",
      "8/8 [==============================] - 4s 543ms/step - loss: 3.1779 - accuracy: 0.3418 - val_loss: 5.1524 - val_accuracy: 0.0371\n",
      "Epoch 111/200\n",
      "8/8 [==============================] - 4s 556ms/step - loss: 3.3181 - accuracy: 0.3184 - val_loss: 5.1229 - val_accuracy: 0.0449\n",
      "Epoch 112/200\n",
      "8/8 [==============================] - 4s 559ms/step - loss: 3.2196 - accuracy: 0.3359 - val_loss: 5.1077 - val_accuracy: 0.0312\n",
      "Epoch 113/200\n",
      "8/8 [==============================] - 4s 551ms/step - loss: 3.2225 - accuracy: 0.3086 - val_loss: 5.1780 - val_accuracy: 0.0410\n",
      "Epoch 114/200\n",
      "8/8 [==============================] - 4s 546ms/step - loss: 3.1179 - accuracy: 0.3262 - val_loss: 5.1136 - val_accuracy: 0.0430\n",
      "Epoch 115/200\n",
      "8/8 [==============================] - 4s 566ms/step - loss: 3.1994 - accuracy: 0.3301 - val_loss: 5.1752 - val_accuracy: 0.0352\n",
      "Epoch 116/200\n",
      "8/8 [==============================] - 4s 560ms/step - loss: 3.1307 - accuracy: 0.3262 - val_loss: 5.1346 - val_accuracy: 0.0352\n",
      "Epoch 117/200\n",
      "8/8 [==============================] - 4s 553ms/step - loss: 3.1109 - accuracy: 0.3164 - val_loss: 5.1068 - val_accuracy: 0.0430\n",
      "Epoch 118/200\n",
      "8/8 [==============================] - 4s 545ms/step - loss: 3.2068 - accuracy: 0.3301 - val_loss: 5.0439 - val_accuracy: 0.0488\n",
      "Epoch 119/200\n",
      "8/8 [==============================] - 4s 552ms/step - loss: 2.9053 - accuracy: 0.3867 - val_loss: 5.0802 - val_accuracy: 0.0469\n",
      "Epoch 120/200\n",
      "8/8 [==============================] - 4s 551ms/step - loss: 2.8988 - accuracy: 0.3828 - val_loss: 5.1005 - val_accuracy: 0.0527\n",
      "Epoch 121/200\n",
      "8/8 [==============================] - 4s 559ms/step - loss: 3.0165 - accuracy: 0.3262 - val_loss: 5.1826 - val_accuracy: 0.0371\n",
      "Epoch 122/200\n",
      "8/8 [==============================] - 4s 546ms/step - loss: 3.0183 - accuracy: 0.3652 - val_loss: 5.1182 - val_accuracy: 0.0391\n",
      "Epoch 123/200\n",
      "8/8 [==============================] - 4s 549ms/step - loss: 2.7875 - accuracy: 0.4023 - val_loss: 5.1502 - val_accuracy: 0.0391\n",
      "Epoch 124/200\n",
      "8/8 [==============================] - 4s 546ms/step - loss: 2.8478 - accuracy: 0.3926 - val_loss: 5.1898 - val_accuracy: 0.0391\n",
      "Epoch 125/200\n",
      "8/8 [==============================] - 4s 544ms/step - loss: 2.8234 - accuracy: 0.3594 - val_loss: 5.1121 - val_accuracy: 0.0332\n",
      "Epoch 126/200\n",
      "8/8 [==============================] - 4s 556ms/step - loss: 2.8673 - accuracy: 0.3652 - val_loss: 5.1146 - val_accuracy: 0.0391\n",
      "Epoch 127/200\n",
      "8/8 [==============================] - 4s 543ms/step - loss: 2.7940 - accuracy: 0.3858 - val_loss: 5.1136 - val_accuracy: 0.0371\n",
      "Epoch 128/200\n",
      "8/8 [==============================] - 4s 546ms/step - loss: 2.7086 - accuracy: 0.4102 - val_loss: 5.1375 - val_accuracy: 0.0527\n",
      "Epoch 129/200\n",
      "8/8 [==============================] - 4s 551ms/step - loss: 2.7202 - accuracy: 0.4004 - val_loss: 5.1873 - val_accuracy: 0.0293\n",
      "Epoch 130/200\n",
      "8/8 [==============================] - 4s 539ms/step - loss: 2.6296 - accuracy: 0.4199 - val_loss: 5.1490 - val_accuracy: 0.0410\n",
      "Epoch 131/200\n",
      "8/8 [==============================] - 4s 547ms/step - loss: 2.7167 - accuracy: 0.3926 - val_loss: 5.1423 - val_accuracy: 0.0449\n",
      "Epoch 132/200\n",
      "8/8 [==============================] - 4s 546ms/step - loss: 2.7384 - accuracy: 0.4180 - val_loss: 5.1270 - val_accuracy: 0.0488\n",
      "Epoch 133/200\n",
      "8/8 [==============================] - 4s 543ms/step - loss: 2.5014 - accuracy: 0.4355 - val_loss: 5.1421 - val_accuracy: 0.0352\n",
      "Epoch 134/200\n",
      "8/8 [==============================] - 4s 548ms/step - loss: 2.6718 - accuracy: 0.4238 - val_loss: 5.0176 - val_accuracy: 0.0527\n",
      "Epoch 135/200\n",
      "8/8 [==============================] - 4s 550ms/step - loss: 2.5807 - accuracy: 0.4434 - val_loss: 5.1370 - val_accuracy: 0.0547\n",
      "Epoch 136/200\n",
      "8/8 [==============================] - 4s 536ms/step - loss: 2.4881 - accuracy: 0.4297 - val_loss: 5.0750 - val_accuracy: 0.0469\n",
      "Epoch 137/200\n",
      "8/8 [==============================] - 4s 541ms/step - loss: 2.5464 - accuracy: 0.4316 - val_loss: 5.0903 - val_accuracy: 0.0449\n",
      "Epoch 138/200\n",
      "8/8 [==============================] - 4s 539ms/step - loss: 2.4344 - accuracy: 0.4570 - val_loss: 5.0985 - val_accuracy: 0.0469\n",
      "Epoch 139/200\n",
      "8/8 [==============================] - 4s 549ms/step - loss: 2.4957 - accuracy: 0.4570 - val_loss: 5.1269 - val_accuracy: 0.0352\n",
      "Epoch 140/200\n",
      "8/8 [==============================] - 4s 551ms/step - loss: 2.4631 - accuracy: 0.4688 - val_loss: 5.0481 - val_accuracy: 0.0605\n",
      "Epoch 141/200\n",
      "8/8 [==============================] - 4s 555ms/step - loss: 2.3483 - accuracy: 0.5000 - val_loss: 5.0673 - val_accuracy: 0.0508\n",
      "Epoch 142/200\n",
      "8/8 [==============================] - 4s 552ms/step - loss: 2.4169 - accuracy: 0.4434 - val_loss: 5.1313 - val_accuracy: 0.0449\n",
      "Epoch 143/200\n",
      "8/8 [==============================] - 4s 548ms/step - loss: 2.2965 - accuracy: 0.4805 - val_loss: 5.1893 - val_accuracy: 0.0527\n",
      "Epoch 144/200\n",
      "8/8 [==============================] - 4s 573ms/step - loss: 2.2576 - accuracy: 0.4883 - val_loss: 5.1958 - val_accuracy: 0.0449\n",
      "Epoch 145/200\n",
      "8/8 [==============================] - 4s 566ms/step - loss: 2.3119 - accuracy: 0.4824 - val_loss: 5.0213 - val_accuracy: 0.0508\n",
      "Epoch 146/200\n",
      "8/8 [==============================] - 4s 555ms/step - loss: 2.2954 - accuracy: 0.4941 - val_loss: 5.0439 - val_accuracy: 0.0586\n",
      "Epoch 147/200\n",
      "8/8 [==============================] - 4s 561ms/step - loss: 2.3831 - accuracy: 0.4688 - val_loss: 5.1049 - val_accuracy: 0.0391\n",
      "Epoch 148/200\n",
      "8/8 [==============================] - 4s 548ms/step - loss: 2.2257 - accuracy: 0.5137 - val_loss: 5.1822 - val_accuracy: 0.0391\n",
      "Epoch 149/200\n",
      "8/8 [==============================] - 4s 555ms/step - loss: 2.2949 - accuracy: 0.4727 - val_loss: 5.1517 - val_accuracy: 0.0605\n",
      "Epoch 150/200\n",
      "8/8 [==============================] - 4s 543ms/step - loss: 2.3231 - accuracy: 0.4785 - val_loss: 5.1041 - val_accuracy: 0.0605\n",
      "Epoch 151/200\n",
      "8/8 [==============================] - 4s 549ms/step - loss: 2.1904 - accuracy: 0.5078 - val_loss: 5.1200 - val_accuracy: 0.0508\n",
      "Epoch 152/200\n",
      "8/8 [==============================] - 4s 541ms/step - loss: 2.3311 - accuracy: 0.4824 - val_loss: 5.1712 - val_accuracy: 0.0605\n",
      "Epoch 153/200\n",
      "8/8 [==============================] - 4s 556ms/step - loss: 2.0071 - accuracy: 0.5312 - val_loss: 5.1019 - val_accuracy: 0.0566\n",
      "Epoch 154/200\n",
      "8/8 [==============================] - 4s 556ms/step - loss: 2.1607 - accuracy: 0.5059 - val_loss: 5.1658 - val_accuracy: 0.0449\n",
      "Epoch 155/200\n",
      "8/8 [==============================] - 4s 556ms/step - loss: 2.0904 - accuracy: 0.5137 - val_loss: 5.0965 - val_accuracy: 0.0430\n",
      "Epoch 156/200\n",
      "8/8 [==============================] - 4s 556ms/step - loss: 2.1724 - accuracy: 0.5195 - val_loss: 5.0163 - val_accuracy: 0.0605\n",
      "Epoch 157/200\n",
      "8/8 [==============================] - 4s 565ms/step - loss: 2.1338 - accuracy: 0.5273 - val_loss: 5.2465 - val_accuracy: 0.0488\n",
      "Epoch 158/200\n",
      "8/8 [==============================] - 4s 542ms/step - loss: 2.0214 - accuracy: 0.5352 - val_loss: 5.2149 - val_accuracy: 0.0449\n",
      "Epoch 159/200\n",
      "8/8 [==============================] - 4s 543ms/step - loss: 2.0130 - accuracy: 0.5332 - val_loss: 5.0492 - val_accuracy: 0.0664\n",
      "Epoch 160/200\n",
      "8/8 [==============================] - 4s 548ms/step - loss: 2.0320 - accuracy: 0.5547 - val_loss: 5.0651 - val_accuracy: 0.0469\n",
      "Epoch 161/200\n",
      "8/8 [==============================] - 4s 551ms/step - loss: 1.9915 - accuracy: 0.5156 - val_loss: 5.1408 - val_accuracy: 0.0684\n",
      "Epoch 162/200\n",
      "8/8 [==============================] - 4s 564ms/step - loss: 1.9845 - accuracy: 0.5293 - val_loss: 5.1267 - val_accuracy: 0.0625\n",
      "Epoch 163/200\n",
      "8/8 [==============================] - 4s 542ms/step - loss: 1.9216 - accuracy: 0.5469 - val_loss: 5.0205 - val_accuracy: 0.0645\n",
      "Epoch 164/200\n",
      "8/8 [==============================] - 4s 542ms/step - loss: 1.8981 - accuracy: 0.5918 - val_loss: 5.1781 - val_accuracy: 0.0527\n",
      "Epoch 165/200\n",
      "8/8 [==============================] - 4s 535ms/step - loss: 1.8413 - accuracy: 0.5625 - val_loss: 5.0572 - val_accuracy: 0.0586\n",
      "Epoch 166/200\n",
      "8/8 [==============================] - 4s 541ms/step - loss: 1.9292 - accuracy: 0.5430 - val_loss: 5.1835 - val_accuracy: 0.0469\n",
      "Epoch 167/200\n",
      "8/8 [==============================] - 4s 544ms/step - loss: 2.0591 - accuracy: 0.5234 - val_loss: 5.1769 - val_accuracy: 0.0449\n",
      "Epoch 168/200\n",
      "8/8 [==============================] - 4s 543ms/step - loss: 1.9829 - accuracy: 0.5508 - val_loss: 5.1738 - val_accuracy: 0.0527\n",
      "Epoch 169/200\n",
      "8/8 [==============================] - 4s 538ms/step - loss: 1.8787 - accuracy: 0.5840 - val_loss: 5.1191 - val_accuracy: 0.0547\n",
      "Epoch 170/200\n",
      "8/8 [==============================] - 4s 545ms/step - loss: 1.8944 - accuracy: 0.5684 - val_loss: 5.0392 - val_accuracy: 0.0527\n",
      "Epoch 171/200\n",
      "8/8 [==============================] - 4s 536ms/step - loss: 1.8096 - accuracy: 0.5827 - val_loss: 5.0434 - val_accuracy: 0.0547\n",
      "Epoch 172/200\n",
      "8/8 [==============================] - 4s 537ms/step - loss: 1.8525 - accuracy: 0.5762 - val_loss: 5.0213 - val_accuracy: 0.0547\n",
      "Epoch 173/200\n",
      "8/8 [==============================] - 4s 539ms/step - loss: 1.7944 - accuracy: 0.6074 - val_loss: 5.0646 - val_accuracy: 0.0605\n",
      "Epoch 174/200\n",
      "8/8 [==============================] - 4s 539ms/step - loss: 1.7800 - accuracy: 0.5820 - val_loss: 5.0546 - val_accuracy: 0.0605\n",
      "Epoch 175/200\n",
      "8/8 [==============================] - 4s 532ms/step - loss: 1.7323 - accuracy: 0.6172 - val_loss: 5.1137 - val_accuracy: 0.0625\n",
      "Epoch 176/200\n",
      "8/8 [==============================] - 4s 542ms/step - loss: 1.8221 - accuracy: 0.5742 - val_loss: 4.9969 - val_accuracy: 0.0566\n",
      "Epoch 177/200\n",
      "8/8 [==============================] - 4s 544ms/step - loss: 1.6140 - accuracy: 0.6152 - val_loss: 5.1180 - val_accuracy: 0.0547\n",
      "Epoch 178/200\n",
      "8/8 [==============================] - 4s 540ms/step - loss: 1.7327 - accuracy: 0.6004 - val_loss: 5.2080 - val_accuracy: 0.0547\n",
      "Epoch 179/200\n",
      "8/8 [==============================] - 4s 540ms/step - loss: 1.7179 - accuracy: 0.6035 - val_loss: 5.1468 - val_accuracy: 0.0605\n",
      "Epoch 180/200\n",
      "8/8 [==============================] - 4s 549ms/step - loss: 1.5876 - accuracy: 0.6406 - val_loss: 5.1568 - val_accuracy: 0.0586\n",
      "Epoch 181/200\n",
      "8/8 [==============================] - 4s 538ms/step - loss: 1.7102 - accuracy: 0.5938 - val_loss: 5.1042 - val_accuracy: 0.0508\n",
      "Epoch 182/200\n",
      "8/8 [==============================] - 4s 558ms/step - loss: 1.5581 - accuracy: 0.6191 - val_loss: 5.1036 - val_accuracy: 0.0586\n",
      "Epoch 183/200\n",
      "8/8 [==============================] - 4s 539ms/step - loss: 1.6205 - accuracy: 0.6387 - val_loss: 5.0475 - val_accuracy: 0.0664\n",
      "Epoch 184/200\n",
      "8/8 [==============================] - 4s 538ms/step - loss: 1.5814 - accuracy: 0.6133 - val_loss: 5.1476 - val_accuracy: 0.0684\n",
      "Epoch 185/200\n",
      "8/8 [==============================] - 4s 548ms/step - loss: 1.4808 - accuracy: 0.6152 - val_loss: 5.1382 - val_accuracy: 0.0645\n",
      "Epoch 186/200\n",
      "8/8 [==============================] - 4s 546ms/step - loss: 1.6292 - accuracy: 0.6211 - val_loss: 5.1156 - val_accuracy: 0.0547\n",
      "Epoch 187/200\n",
      "8/8 [==============================] - 4s 544ms/step - loss: 1.4904 - accuracy: 0.6484 - val_loss: 5.0213 - val_accuracy: 0.0684\n",
      "Epoch 188/200\n",
      "8/8 [==============================] - 4s 537ms/step - loss: 1.4045 - accuracy: 0.6641 - val_loss: 5.0496 - val_accuracy: 0.0469\n",
      "Epoch 189/200\n",
      "8/8 [==============================] - 4s 546ms/step - loss: 1.4210 - accuracy: 0.6719 - val_loss: 5.0736 - val_accuracy: 0.0742\n",
      "Epoch 190/200\n",
      "8/8 [==============================] - 4s 553ms/step - loss: 1.4593 - accuracy: 0.6641 - val_loss: 5.1752 - val_accuracy: 0.0605\n",
      "Epoch 191/200\n",
      "8/8 [==============================] - 4s 536ms/step - loss: 1.4839 - accuracy: 0.6328 - val_loss: 5.0949 - val_accuracy: 0.0547\n",
      "Epoch 192/200\n",
      "8/8 [==============================] - 4s 562ms/step - loss: 1.5131 - accuracy: 0.6426 - val_loss: 5.1962 - val_accuracy: 0.0508\n",
      "Epoch 193/200\n",
      "8/8 [==============================] - 4s 538ms/step - loss: 1.4976 - accuracy: 0.6445 - val_loss: 5.0261 - val_accuracy: 0.0664\n",
      "Epoch 194/200\n",
      "8/8 [==============================] - 4s 544ms/step - loss: 1.3167 - accuracy: 0.6719 - val_loss: 5.2116 - val_accuracy: 0.0625\n",
      "Epoch 195/200\n",
      "8/8 [==============================] - 4s 538ms/step - loss: 1.3849 - accuracy: 0.6836 - val_loss: 5.1382 - val_accuracy: 0.0586\n",
      "Epoch 196/200\n",
      "8/8 [==============================] - 4s 539ms/step - loss: 1.4500 - accuracy: 0.6738 - val_loss: 5.1138 - val_accuracy: 0.0488\n",
      "Epoch 197/200\n",
      "8/8 [==============================] - 4s 543ms/step - loss: 1.4393 - accuracy: 0.6426 - val_loss: 5.0683 - val_accuracy: 0.0625\n",
      "Epoch 198/200\n",
      "8/8 [==============================] - 4s 547ms/step - loss: 1.3740 - accuracy: 0.6738 - val_loss: 5.2774 - val_accuracy: 0.0508\n",
      "Epoch 199/200\n",
      "8/8 [==============================] - 4s 540ms/step - loss: 1.4847 - accuracy: 0.6445 - val_loss: 5.1747 - val_accuracy: 0.0605\n",
      "Epoch 200/200\n",
      "8/8 [==============================] - 4s 531ms/step - loss: 1.2969 - accuracy: 0.6895 - val_loss: 5.0211 - val_accuracy: 0.0781\n"
     ]
    }
   ],
   "source": [
    "num_epochs = 200\n",
    "\n",
    "history = model.fit(\n",
    "    train_generator,\n",
    "    steps_per_epoch=8,\n",
    "    epochs=num_epochs,\n",
    "    verbose=1,\n",
    "    validation_data=val_generator,\n",
    "    validation_steps=8,\n",
    "    # callbacks=[reduce_lr, early_stop]\n",
    ")"
   ]
  },
  {
   "cell_type": "code",
   "execution_count": 228,
   "metadata": {},
   "outputs": [
    {
     "data": {
      "text/plain": [
       "<matplotlib.legend.Legend at 0x1fa048325f0>"
      ]
     },
     "execution_count": 228,
     "metadata": {},
     "output_type": "execute_result"
    },
    {
     "data": {
      "image/png": "[encoded data removed]",
      "text/plain": [
       "<Figure size 432x288 with 1 Axes>"
      ]
     },
     "metadata": {
      "needs_background": "light"
     },
     "output_type": "display_data"
    },
    {
     "data": {
      "image/png": "[encoded data removed]",
      "text/plain": [
       "<Figure size 432x288 with 1 Axes>"
      ]
     },
     "metadata": {
      "needs_background": "light"
     },
     "output_type": "display_data"
    }
   ],
   "source": [
    "accuracy = history.history['accuracy']\n",
    "val_accuracy = history.history['val_accuracy']\n",
    "\n",
    "loss = history.history['loss']\n",
    "val_loss = history.history['val_loss']\n",
    "\n",
    "epochs = range(len(accuracy))\n",
    "plt.plot(epochs, accuracy, 'b', label='Training accuracy')\n",
    "plt.plot(epochs, val_accuracy, 'r', label='Validation accuracy')\n",
    "\n",
    "plt.title('Training and validation accuracy')\n",
    "plt.legend()\n",
    "plt.figure()\n",
    "plt.plot(epochs, loss, 'b', label='Training loss')\n",
    "plt.plot(epochs, val_loss, 'r', label='Validation loss')\n",
    "\n",
    "plt.title('Training and validation loss')\n",
    "plt.legend()"
   ]
  },
  {
   "cell_type": "markdown",
   "metadata": {},
   "source": [
    "5. model prediction"
   ]
  },
  {
   "cell_type": "code",
   "execution_count": 230,
   "metadata": {},
   "outputs": [
    {
     "name": "stdout",
     "output_type": "stream",
     "text": [
      "16/16 [==============================] - 3s 169ms/step\n"
     ]
    },
    {
     "data": {
      "text/plain": [
       "(1000, 200)"
      ]
     },
     "execution_count": 230,
     "metadata": {},
     "output_type": "execute_result"
    }
   ],
   "source": [
    "preds = model.predict(test_generator, batch_size=batch_size, verbose = 1)\n",
    "preds.shape"
   ]
  },
  {
   "cell_type": "markdown",
   "metadata": {},
   "source": [
    "6. model evaluation"
   ]
  },
  {
   "cell_type": "code",
   "execution_count": 229,
   "metadata": {},
   "outputs": [
    {
     "name": "stdout",
     "output_type": "stream",
     "text": [
      "16/16 [==============================] - 3s 203ms/step - loss: 5.0155 - accuracy: 0.0520\n",
      "    Test Loss: 5.01547\n",
      "Test Accuracy: 5.20%\n"
     ]
    }
   ],
   "source": [
    "results = model.evaluate(test_generator, verbose=1)\n",
    "\n",
    "print(\"    Test Loss: {:.5f}\".format(results[0]))\n",
    "print(\"Test Accuracy: {:.2f}%\".format(results[1] * 100))"
   ]
  }
 ],
 "metadata": {
  "kernelspec": {
   "display_name": "Python 3",
   "language": "python",
   "name": "python3"
  },
  "language_info": {
   "codemirror_mode": {
    "name": "ipython",
    "version": 3
   },
   "file_extension": ".py",
   "mimetype": "text/x-python",
   "name": "python",
   "nbconvert_exporter": "python",
   "pygments_lexer": "ipython3",
   "version": "3.10.5"
  }
 },
 "nbformat": 4,
 "nbformat_minor": 2
}
